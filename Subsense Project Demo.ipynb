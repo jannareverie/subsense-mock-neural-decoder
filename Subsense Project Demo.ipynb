{
 "cells": [
  {
   "cell_type": "code",
   "execution_count": null,
   "metadata": {},
   "outputs": [],
   "source": [
    "# Neural Intent Decoder for Nanoparticle-Based BCI (Inspired by Subsense)\n",
    "# Author: Janna Hong\n",
    "# Date: 7/26/2025\n",
    "\n",
    "# This notebook demonstrates a complete machine learning pipeline for decoding neural intent\n",
    "# from non-invasive nanoparticle-like biosignals. It is designed as a showcase of practical,\n",
    "# real-world ML work that could be performed at Subsense.\n",
    "\n",
    "# Step 1: Import essential libraries\n",
    "\n",
    "import numpy as np\n",
    "import pandas as pd\n",
    "import matplotlib.pyplot as plt\n",
    "import seaborn as sns\n",
    "from sklearn.model_selection import train_test_split\n",
    "from sklearn.linear_model import LogisticRegression\n",
    "from sklearn.metrics import classification_report, confusion_matrix, roc_auc_score, RocCurveDisplay\n",
    "from sklearn.preprocessing import StandardScaler\n",
    "\n",
    "# For dimensionality reduction and visualization\n",
    "from sklearn.decomposition import PCA\n",
    "from sklearn.manifold import TSNE\n",
    "\n",
    "# Load the simulated dataset\n",
    "data = np.load(\"mock_nanobci_dataset.npz\")\n",
    "X = data['X']  # Shape: (n_trials, n_timepoints, n_sensors)\n",
    "y = data['y']  # Labels: 0 (rest), 1 (motor imagery)\n",
    "subject_ids = data['subject_ids']\n",
    "\n",
    "print(f\"Data shape: {X.shape}\")\n",
    "print(f\"Labels shape: {y.shape}\")\n",
    "print(f\"Subjects shape: {subject_ids.shape}\")\n"
   ]
  }
 ],
 "metadata": {
  "language_info": {
   "name": "python"
  }
 },
 "nbformat": 4,
 "nbformat_minor": 2
}
